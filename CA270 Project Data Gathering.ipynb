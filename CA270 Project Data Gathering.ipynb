{
 "cells": [
  {
   "cell_type": "code",
   "execution_count": 1,
   "metadata": {},
   "outputs": [],
   "source": [
    "import requests\n",
    "import pandas as pd\n",
    "import json\n",
    "\n",
    "import warnings\n",
    "warnings.filterwarnings('ignore')"
   ]
  },
  {
   "cell_type": "code",
   "execution_count": 2,
   "metadata": {},
   "outputs": [],
   "source": [
    "def get_req(url):\n",
    "    resp = requests.get(url)\n",
    "    return json.loads(resp.text)"
   ]
  },
  {
   "cell_type": "code",
   "execution_count": 3,
   "metadata": {},
   "outputs": [],
   "source": [
    "def urlify(s):\n",
    "    return s.replace(\" \", \"%20\")"
   ]
  },
  {
   "cell_type": "markdown",
   "metadata": {},
   "source": [
    "These small csv's were filled in by hand and exported from my mySQL db."
   ]
  },
  {
   "cell_type": "code",
   "execution_count": 4,
   "metadata": {},
   "outputs": [],
   "source": [
    "df_cs = pd.read_csv(\"class_specs.csv\")\n",
    "df_affixes = pd.read_csv(\"affixes.csv\")\n",
    "df_dungeons = pd.read_csv(\"dungeons.csv\")"
   ]
  },
  {
   "cell_type": "code",
   "execution_count": 5,
   "metadata": {},
   "outputs": [
    {
     "data": {
      "text/html": [
       "<div>\n",
       "<style scoped>\n",
       "    .dataframe tbody tr th:only-of-type {\n",
       "        vertical-align: middle;\n",
       "    }\n",
       "\n",
       "    .dataframe tbody tr th {\n",
       "        vertical-align: top;\n",
       "    }\n",
       "\n",
       "    .dataframe thead th {\n",
       "        text-align: right;\n",
       "    }\n",
       "</style>\n",
       "<table border=\"1\" class=\"dataframe\">\n",
       "  <thead>\n",
       "    <tr style=\"text-align: right;\">\n",
       "      <th></th>\n",
       "      <th>id</th>\n",
       "      <th>level_2</th>\n",
       "      <th>level_4</th>\n",
       "      <th>level_7</th>\n",
       "      <th>level_10</th>\n",
       "    </tr>\n",
       "  </thead>\n",
       "  <tbody>\n",
       "    <tr>\n",
       "      <th>0</th>\n",
       "      <td>FO_BO_SK_IN</td>\n",
       "      <td>Fortified</td>\n",
       "      <td>Bolstering</td>\n",
       "      <td>Skittish</td>\n",
       "      <td>Infested</td>\n",
       "    </tr>\n",
       "    <tr>\n",
       "      <th>1</th>\n",
       "      <td>FO_BU_QU_IN</td>\n",
       "      <td>Fortified</td>\n",
       "      <td>Bursting</td>\n",
       "      <td>Quaking</td>\n",
       "      <td>Infested</td>\n",
       "    </tr>\n",
       "    <tr>\n",
       "      <th>2</th>\n",
       "      <td>FO_SA_GR_IN</td>\n",
       "      <td>Fortified</td>\n",
       "      <td>Sanguine</td>\n",
       "      <td>Grievous</td>\n",
       "      <td>Infested</td>\n",
       "    </tr>\n",
       "    <tr>\n",
       "      <th>3</th>\n",
       "      <td>FO_TE_EX_IN</td>\n",
       "      <td>Fortified</td>\n",
       "      <td>Teeming</td>\n",
       "      <td>Explosive</td>\n",
       "      <td>Infested</td>\n",
       "    </tr>\n",
       "    <tr>\n",
       "      <th>4</th>\n",
       "      <td>FO_TE_QU_IN</td>\n",
       "      <td>Fortified</td>\n",
       "      <td>Teeming</td>\n",
       "      <td>Quaking</td>\n",
       "      <td>Infested</td>\n",
       "    </tr>\n",
       "  </tbody>\n",
       "</table>\n",
       "</div>"
      ],
      "text/plain": [
       "            id    level_2     level_4    level_7  level_10\n",
       "0  FO_BO_SK_IN  Fortified  Bolstering   Skittish  Infested\n",
       "1  FO_BU_QU_IN  Fortified    Bursting    Quaking  Infested\n",
       "2  FO_SA_GR_IN  Fortified    Sanguine   Grievous  Infested\n",
       "3  FO_TE_EX_IN  Fortified     Teeming  Explosive  Infested\n",
       "4  FO_TE_QU_IN  Fortified     Teeming    Quaking  Infested"
      ]
     },
     "execution_count": 5,
     "metadata": {},
     "output_type": "execute_result"
    }
   ],
   "source": [
    "df_affixes.head()"
   ]
  },
  {
   "cell_type": "code",
   "execution_count": 6,
   "metadata": {},
   "outputs": [
    {
     "data": {
      "text/html": [
       "<div>\n",
       "<style scoped>\n",
       "    .dataframe tbody tr th:only-of-type {\n",
       "        vertical-align: middle;\n",
       "    }\n",
       "\n",
       "    .dataframe tbody tr th {\n",
       "        vertical-align: top;\n",
       "    }\n",
       "\n",
       "    .dataframe thead th {\n",
       "        text-align: right;\n",
       "    }\n",
       "</style>\n",
       "<table border=\"1\" class=\"dataframe\">\n",
       "  <thead>\n",
       "    <tr style=\"text-align: right;\">\n",
       "      <th></th>\n",
       "      <th>id</th>\n",
       "      <th>base_class</th>\n",
       "      <th>specialisation</th>\n",
       "      <th>category</th>\n",
       "    </tr>\n",
       "  </thead>\n",
       "  <tbody>\n",
       "    <tr>\n",
       "      <th>0</th>\n",
       "      <td>DH_HA</td>\n",
       "      <td>Demon Hunter</td>\n",
       "      <td>Havoc</td>\n",
       "      <td>Melee Damage</td>\n",
       "    </tr>\n",
       "    <tr>\n",
       "      <th>1</th>\n",
       "      <td>DH_VE</td>\n",
       "      <td>Demon Hunter</td>\n",
       "      <td>Vengeance</td>\n",
       "      <td>Tank</td>\n",
       "    </tr>\n",
       "    <tr>\n",
       "      <th>2</th>\n",
       "      <td>DK_BL</td>\n",
       "      <td>Death Knight</td>\n",
       "      <td>Blood</td>\n",
       "      <td>Tank</td>\n",
       "    </tr>\n",
       "    <tr>\n",
       "      <th>3</th>\n",
       "      <td>DK_FR</td>\n",
       "      <td>Death Knight</td>\n",
       "      <td>Frost</td>\n",
       "      <td>Melee Damage</td>\n",
       "    </tr>\n",
       "    <tr>\n",
       "      <th>4</th>\n",
       "      <td>DK_UN</td>\n",
       "      <td>Death Knight</td>\n",
       "      <td>Unholy</td>\n",
       "      <td>Melee Damage</td>\n",
       "    </tr>\n",
       "  </tbody>\n",
       "</table>\n",
       "</div>"
      ],
      "text/plain": [
       "      id    base_class specialisation      category\n",
       "0  DH_HA  Demon Hunter          Havoc  Melee Damage\n",
       "1  DH_VE  Demon Hunter      Vengeance          Tank\n",
       "2  DK_BL  Death Knight          Blood          Tank\n",
       "3  DK_FR  Death Knight          Frost  Melee Damage\n",
       "4  DK_UN  Death Knight         Unholy  Melee Damage"
      ]
     },
     "execution_count": 6,
     "metadata": {},
     "output_type": "execute_result"
    }
   ],
   "source": [
    "df_cs.head()"
   ]
  },
  {
   "cell_type": "code",
   "execution_count": 7,
   "metadata": {},
   "outputs": [
    {
     "data": {
      "text/html": [
       "<div>\n",
       "<style scoped>\n",
       "    .dataframe tbody tr th:only-of-type {\n",
       "        vertical-align: middle;\n",
       "    }\n",
       "\n",
       "    .dataframe tbody tr th {\n",
       "        vertical-align: top;\n",
       "    }\n",
       "\n",
       "    .dataframe thead th {\n",
       "        text-align: right;\n",
       "    }\n",
       "</style>\n",
       "<table border=\"1\" class=\"dataframe\">\n",
       "  <thead>\n",
       "    <tr style=\"text-align: right;\">\n",
       "      <th></th>\n",
       "      <th>id</th>\n",
       "      <th>name</th>\n",
       "      <th>timer</th>\n",
       "    </tr>\n",
       "  </thead>\n",
       "  <tbody>\n",
       "    <tr>\n",
       "      <th>0</th>\n",
       "      <td>AD</td>\n",
       "      <td>Atal'dazar</td>\n",
       "      <td>1800</td>\n",
       "    </tr>\n",
       "    <tr>\n",
       "      <th>1</th>\n",
       "      <td>FH</td>\n",
       "      <td>Freehold</td>\n",
       "      <td>2160</td>\n",
       "    </tr>\n",
       "    <tr>\n",
       "      <th>2</th>\n",
       "      <td>KR</td>\n",
       "      <td>Kings' Rest</td>\n",
       "      <td>2340</td>\n",
       "    </tr>\n",
       "    <tr>\n",
       "      <th>3</th>\n",
       "      <td>ML</td>\n",
       "      <td>The MOTHERLODE!!</td>\n",
       "      <td>2340</td>\n",
       "    </tr>\n",
       "    <tr>\n",
       "      <th>4</th>\n",
       "      <td>SB</td>\n",
       "      <td>Siege of Boralus</td>\n",
       "      <td>2160</td>\n",
       "    </tr>\n",
       "  </tbody>\n",
       "</table>\n",
       "</div>"
      ],
      "text/plain": [
       "   id              name  timer\n",
       "0  AD        Atal'dazar   1800\n",
       "1  FH          Freehold   2160\n",
       "2  KR       Kings' Rest   2340\n",
       "3  ML  The MOTHERLODE!!   2340\n",
       "4  SB  Siege of Boralus   2160"
      ]
     },
     "execution_count": 7,
     "metadata": {},
     "output_type": "execute_result"
    }
   ],
   "source": [
    "df_dungeons.head()"
   ]
  },
  {
   "cell_type": "markdown",
   "metadata": {},
   "source": [
    "---\n",
    "Here is an example of the data I received from an API call. It holds data about:\n",
    "* The dungeon (name, difficulty, etc)\n",
    "* The players (names, classes, specs, etc.)\n",
    "* The run (Time completed, affixes, deaths, etc.)"
   ]
  },
  {
   "cell_type": "code",
   "execution_count": 8,
   "metadata": {},
   "outputs": [
    {
     "data": {
      "text/plain": [
       "dict_keys(['season', 'dungeon', 'keystone_run_id', 'keystone_team_id', 'keystone_platoon_id', 'mythic_level', 'clear_time_ms', 'keystone_time_ms', 'completed_at', 'num_chests', 'time_remaining_ms', 'faction', 'weekly_modifiers', 'num_modifiers_active', 'roster', 'platoon'])"
      ]
     },
     "execution_count": 8,
     "metadata": {},
     "output_type": "execute_result"
    }
   ],
   "source": [
    "tmp_url = (\"https://raider.io/api/v1/mythic-plus/runs\"\n",
    "           \"?season=season-bfa-1&region=world&dungeon=all&affixes=fortified\")\n",
    "tmp_rsp = get_req(tmp_url)\n",
    "tmp_rsp[\"rankings\"][0][\"run\"].keys()"
   ]
  },
  {
   "cell_type": "markdown",
   "metadata": {},
   "source": [
    "Here I converted each result from the API call into 5 separate entries.\n",
    "* Extract relevant data from the json\n",
    "* Convert dungeon names into their IDs\n",
    "* Convert affix combinations into their IDs\n",
    "* Convert class & spec information into IDs\n",
    "* Create 5 separate entries with the above information in each"
   ]
  },
  {
   "cell_type": "code",
   "execution_count": 9,
   "metadata": {},
   "outputs": [],
   "source": [
    "def json_to_entries(js):\n",
    "    entries = []\n",
    "    for run in js[\"rankings\"]:\n",
    "        run = run[\"run\"]\n",
    "\n",
    "        # Extract data from json\n",
    "        du_name = run[\"dungeon\"][\"name\"]\n",
    "        di_level = run[\"mythic_level\"]\n",
    "        affixes_json = run[\"weekly_modifiers\"]\n",
    "        affixes = [j[\"name\"] for j in affixes_json]\n",
    "        class_specs = [(c[\"character\"][\"class\"][\"name\"],\n",
    "                        c[\"character\"][\"spec\"][\"name\"]) for c in run[\"roster\"]]\n",
    "\n",
    "        \n",
    "        # \"Atal'dazar\" -> \"AD\"\n",
    "        du_id = df_dungeons[df_dungeons.name==du_name][\"id\"].values[0]\n",
    "\n",
    "        # ['Tyrannical', 'Teeming', 'Volcanic', 'Infested'] -> \"TY_TE_VO_IN\"\n",
    "        affix_id = df_affixes[df_affixes.level_2==affixes[0]\n",
    "                             ][df_affixes.level_4==affixes[1]\n",
    "                              ][df_affixes.level_7==affixes[2]\n",
    "                               ][df_affixes.level_10==affixes[3]][\"id\"].values[0]\n",
    "\n",
    "        # ('Rogue', 'Subtlety') -> \"RO_SU\"\n",
    "        cs_ids = []\n",
    "        for cls, spec in class_specs:\n",
    "            cs_ids.append(df_cs[df_cs.base_class==cls\n",
    "                               ][df_cs.specialisation==spec][\"id\"].values[0])\n",
    "\n",
    "        \n",
    "        # Convert to single entries\n",
    "        for cs_id in cs_ids:\n",
    "            entries.append((cs_id, du_id, di_level, affix_id))\n",
    "\n",
    "    return entries"
   ]
  },
  {
   "cell_type": "markdown",
   "metadata": {},
   "source": [
    "---\n",
    "Here I iterate over all regions, dungeons and affixes.  \n",
    "First the API call urls are created, then the data is retrieved and converted into entries.  \n",
    "(this part of the API is outdated, so I am only able to filter for 2 affixes)"
   ]
  },
  {
   "cell_type": "code",
   "execution_count": 10,
   "metadata": {},
   "outputs": [],
   "source": [
    "regions = [\"eu\", \"us\", \"tw\", \"kr\"]\n",
    "dungeons = df_dungeons.name.values\n",
    "affixes_2 = [\"Tyrannical\", \"Fortified\"]\n",
    "url_format = (\"https://raider.io/api/v1/mythic-plus/runs\"\n",
    "              \"?season=season-bfa-1&region={}&dungeon={}&affixes={}\")\n",
    "urls = [url_format.format(r, urlify(d), a\n",
    "                         ) for r in regions for d in dungeons for a in affixes_2]"
   ]
  },
  {
   "cell_type": "code",
   "execution_count": 11,
   "metadata": {
    "scrolled": true
   },
   "outputs": [],
   "source": [
    "entries = []\n",
    "for url in urls:\n",
    "    resp_json = get_req(url)\n",
    "    entries += json_to_entries(resp_json)"
   ]
  },
  {
   "cell_type": "markdown",
   "metadata": {},
   "source": [
    "---\n",
    "Finally, I convert the list of entries into a pandas DataFrame.  \n",
    "This allows me to aggregate duplicate values into a count.  "
   ]
  },
  {
   "cell_type": "code",
   "execution_count": 12,
   "metadata": {},
   "outputs": [
    {
     "data": {
      "text/html": [
       "<div>\n",
       "<style scoped>\n",
       "    .dataframe tbody tr th:only-of-type {\n",
       "        vertical-align: middle;\n",
       "    }\n",
       "\n",
       "    .dataframe tbody tr th {\n",
       "        vertical-align: top;\n",
       "    }\n",
       "\n",
       "    .dataframe thead th {\n",
       "        text-align: right;\n",
       "    }\n",
       "</style>\n",
       "<table border=\"1\" class=\"dataframe\">\n",
       "  <thead>\n",
       "    <tr style=\"text-align: right;\">\n",
       "      <th></th>\n",
       "      <th>class_id</th>\n",
       "      <th>dungeon_id</th>\n",
       "      <th>difficulty_id</th>\n",
       "      <th>affix_id</th>\n",
       "    </tr>\n",
       "  </thead>\n",
       "  <tbody>\n",
       "    <tr>\n",
       "      <th>0</th>\n",
       "      <td>RO_SU</td>\n",
       "      <td>AD</td>\n",
       "      <td>19</td>\n",
       "      <td>TY_TE_VO_IN</td>\n",
       "    </tr>\n",
       "    <tr>\n",
       "      <th>1</th>\n",
       "      <td>HU_BM</td>\n",
       "      <td>AD</td>\n",
       "      <td>19</td>\n",
       "      <td>TY_TE_VO_IN</td>\n",
       "    </tr>\n",
       "    <tr>\n",
       "      <th>2</th>\n",
       "      <td>DK_BL</td>\n",
       "      <td>AD</td>\n",
       "      <td>19</td>\n",
       "      <td>TY_TE_VO_IN</td>\n",
       "    </tr>\n",
       "    <tr>\n",
       "      <th>3</th>\n",
       "      <td>MO_MW</td>\n",
       "      <td>AD</td>\n",
       "      <td>19</td>\n",
       "      <td>TY_TE_VO_IN</td>\n",
       "    </tr>\n",
       "    <tr>\n",
       "      <th>4</th>\n",
       "      <td>DH_HA</td>\n",
       "      <td>AD</td>\n",
       "      <td>19</td>\n",
       "      <td>TY_TE_VO_IN</td>\n",
       "    </tr>\n",
       "  </tbody>\n",
       "</table>\n",
       "</div>"
      ],
      "text/plain": [
       "  class_id dungeon_id  difficulty_id     affix_id\n",
       "0    RO_SU         AD             19  TY_TE_VO_IN\n",
       "1    HU_BM         AD             19  TY_TE_VO_IN\n",
       "2    DK_BL         AD             19  TY_TE_VO_IN\n",
       "3    MO_MW         AD             19  TY_TE_VO_IN\n",
       "4    DH_HA         AD             19  TY_TE_VO_IN"
      ]
     },
     "execution_count": 12,
     "metadata": {},
     "output_type": "execute_result"
    }
   ],
   "source": [
    "df_entries = pd.DataFrame.from_records(entries,\n",
    "                columns=[\"class_id\", \"dungeon_id\", \"difficulty_id\", \"affix_id\"])\n",
    "df_entries.head()"
   ]
  },
  {
   "cell_type": "code",
   "execution_count": 13,
   "metadata": {},
   "outputs": [
    {
     "data": {
      "text/html": [
       "<div>\n",
       "<style scoped>\n",
       "    .dataframe tbody tr th:only-of-type {\n",
       "        vertical-align: middle;\n",
       "    }\n",
       "\n",
       "    .dataframe tbody tr th {\n",
       "        vertical-align: top;\n",
       "    }\n",
       "\n",
       "    .dataframe thead th {\n",
       "        text-align: right;\n",
       "    }\n",
       "</style>\n",
       "<table border=\"1\" class=\"dataframe\">\n",
       "  <thead>\n",
       "    <tr style=\"text-align: right;\">\n",
       "      <th></th>\n",
       "      <th>class_id</th>\n",
       "      <th>dungeon_id</th>\n",
       "      <th>difficulty_id</th>\n",
       "      <th>affix_id</th>\n",
       "      <th>num_completed</th>\n",
       "    </tr>\n",
       "  </thead>\n",
       "  <tbody>\n",
       "    <tr>\n",
       "      <th>0</th>\n",
       "      <td>DH_HA</td>\n",
       "      <td>AD</td>\n",
       "      <td>15</td>\n",
       "      <td>FO_BO_SK_IN</td>\n",
       "      <td>3</td>\n",
       "    </tr>\n",
       "    <tr>\n",
       "      <th>1</th>\n",
       "      <td>DH_HA</td>\n",
       "      <td>AD</td>\n",
       "      <td>15</td>\n",
       "      <td>FO_SA_GR_IN</td>\n",
       "      <td>3</td>\n",
       "    </tr>\n",
       "    <tr>\n",
       "      <th>2</th>\n",
       "      <td>DH_HA</td>\n",
       "      <td>AD</td>\n",
       "      <td>15</td>\n",
       "      <td>TY_RA_NE_IN</td>\n",
       "      <td>1</td>\n",
       "    </tr>\n",
       "    <tr>\n",
       "      <th>3</th>\n",
       "      <td>DH_HA</td>\n",
       "      <td>AD</td>\n",
       "      <td>16</td>\n",
       "      <td>FO_BO_SK_IN</td>\n",
       "      <td>2</td>\n",
       "    </tr>\n",
       "    <tr>\n",
       "      <th>4</th>\n",
       "      <td>DH_HA</td>\n",
       "      <td>AD</td>\n",
       "      <td>16</td>\n",
       "      <td>FO_SA_GR_IN</td>\n",
       "      <td>4</td>\n",
       "    </tr>\n",
       "  </tbody>\n",
       "</table>\n",
       "</div>"
      ],
      "text/plain": [
       "  class_id dungeon_id  difficulty_id     affix_id  num_completed\n",
       "0    DH_HA         AD             15  FO_BO_SK_IN              3\n",
       "1    DH_HA         AD             15  FO_SA_GR_IN              3\n",
       "2    DH_HA         AD             15  TY_RA_NE_IN              1\n",
       "3    DH_HA         AD             16  FO_BO_SK_IN              2\n",
       "4    DH_HA         AD             16  FO_SA_GR_IN              4"
      ]
     },
     "execution_count": 13,
     "metadata": {},
     "output_type": "execute_result"
    }
   ],
   "source": [
    "cols = df_entries.columns.tolist()\n",
    "agg_entries = df_entries.groupby(cols,as_index=False).size()\n",
    "agg_entries = agg_entries.reset_index().rename(columns={0:'num_completed'})\n",
    "agg_entries.head()"
   ]
  },
  {
   "cell_type": "markdown",
   "metadata": {},
   "source": [
    "After aggregation the data is in the correct format to be import into the database.  \n",
    "I saved it as a csv file and imported it manually through mySQL workbench."
   ]
  },
  {
   "cell_type": "code",
   "execution_count": 14,
   "metadata": {},
   "outputs": [],
   "source": [
    "agg_entries.to_csv(\"ca270_entries.csv\", header=True, index=False)"
   ]
  }
 ],
 "metadata": {
  "kernelspec": {
   "display_name": "Python 3",
   "language": "python",
   "name": "python3"
  },
  "language_info": {
   "codemirror_mode": {
    "name": "ipython",
    "version": 3
   },
   "file_extension": ".py",
   "mimetype": "text/x-python",
   "name": "python",
   "nbconvert_exporter": "python",
   "pygments_lexer": "ipython3",
   "version": "3.6.5"
  }
 },
 "nbformat": 4,
 "nbformat_minor": 2
}
